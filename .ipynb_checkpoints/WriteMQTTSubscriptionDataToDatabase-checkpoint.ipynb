{
 "cells": [
  {
   "cell_type": "code",
   "execution_count": 1,
   "id": "64b77d61-9f1c-44de-9648-69478a367670",
   "metadata": {
    "scrolled": true
   },
   "outputs": [],
   "source": [
    "import paho.mqtt.client as mqtt\n",
    "import os\n",
    "import joblib\n",
    "import platform\n",
    "from tqdm import tqdm\n",
    "\n",
    "from sklearn.preprocessing import MinMaxScaler"
   ]
  },
  {
   "cell_type": "code",
   "execution_count": null,
   "id": "02f5badd-5262-4d14-b19f-8091fa76b3f8",
   "metadata": {},
   "outputs": [],
   "source": [
    "class AnalyseSensorData():\n",
    "    \n",
    "    models      = None \n",
    "    names       = None\n",
    "    predictions = None\n",
    "    \n",
    "    def __init__(self, sensor_data):\n",
    "        \n",
    "        self.names = list()\n",
    "        self.models = dict()\n",
    "        self.predictions = dict()\n",
    "        self.dst = self.process_dataset(sensor_data)\n",
    "\n",
    "        self.load_models()\n",
    "        self.make_prediction()\n",
    "\n",
    "    def get_source_directory(self):\n",
    "        root = os.getcwd()\n",
    "        abs_root = os.path.abspath(os.path.join(root, os.pardir))\n",
    "        return os.path.join(abs_root, \"models/\")\n",
    "\n",
    "    def process_dataset(self, sensor_data):\n",
    "        normalizer = MinMaxScaler()\n",
    "        \n",
    "        json_data = list()\n",
    "        json_data.append(sensor_data)\n",
    "        df = pd.DataFrame(json_data)\n",
    "\n",
    "        X = normalizer.fit_transform(df)\n",
    "\n",
    "        return X\n",
    "\n",
    "    def retrieve_name(self, file_name)\n",
    "        if  platform.system() == 'Windows':\n",
    "            file_name = file_name.split(\"\\\\\")[-1]\n",
    "        else: \n",
    "            file_name = file_name.split(\"/\")[-1]\n",
    "\n",
    "        period_index = file_name.rfind(\".\")\n",
    "        return file_name[:period_index]\n",
    "\n",
    "    def load_models(self):\n",
    "        model_directory = self.get_source_directory()\n",
    "        try:\n",
    "            model_list = os.listdir(model_directory)\n",
    "            if len(model_list) > 0:\n",
    "                for file in tqdm(model_list, len(model_list)):\n",
    "                    name = self.retrieve_name(file)\n",
    "                    self.models[name] = joblib.load(os.path.join(model_directory, file))\n",
    "                    self.names.append(name)\n",
    "            else:\n",
    "                raise ValueError('No saved model found in \"{}\" directory.'.format(source_dir))\n",
    "        except Exception as e:\n",
    "            print(\"FATAL MODEL LOAD ERROR :  \", dir(e))\n",
    "            exit()\n",
    "            \n",
    "    def make_prediction(self):\n",
    "        try:\n",
    "            for name in self.names:\n",
    "                self.predictions[name] = self.models[name].predict(self.dst)\n",
    "        except Exception as e:\n",
    "            print(\"FATAL PREDICTION ERROR:  \", dir(e))\n",
    "            exit()\n",
    "\n",
    "    @staticmethod\n",
    "    def make_predictions(sensor_data):\n",
    "        analysis = AnalyseSensorData(sensor_data)\n",
    "        num_of_models = len(list(analysis.predictions.keys()))\n",
    "        sum_of_predictions = sum(analysis.predictions.values())\n",
    "        prediction = sum_of_predictions // num_of_models\n",
    "        return analysis.predictions"
   ]
  },
  {
   "cell_type": "code",
   "execution_count": 1,
   "id": "40eae518-6c8c-415c-b8e1-5b243c037018",
   "metadata": {},
   "outputs": [],
   "source": [
    "# The callback for when the client receives a CONNACK response from the server.\n",
    "def on_connect(client, userdata, flags, reason_code, properties):\n",
    "    print(f\"Connected with result code {reason_code}\")\n",
    "    # Subscribing in on_connect() means that if we lose the connection and\n",
    "    # reconnect then subscriptions will be renewed.\n",
    "    client.subscribe(\"Remote/FERS/IoT-Data/json\")\n",
    "\n",
    "# The callback for when a PUBLISH message is received from the server.\n",
    "def on_message(client, userdata, msg):\n",
    "    topic = msg.topic\n",
    "    \n",
    "    print(msg.topic+\" \"+str(msg.payload))"
   ]
  },
  {
   "cell_type": "code",
   "execution_count": null,
   "id": "50dc8b68-e7a8-4d31-8d75-c9592e82dfd9",
   "metadata": {},
   "outputs": [],
   "source": [
    "mqttc = mqtt.Client(mqtt.CallbackAPIVersion.VERSION2)\n",
    "mqttc.on_connect = on_connect\n",
    "mqttc.on_message = on_message\n",
    "mqttc.connect(\"broker.emqx.io\", 1883, 60)\n",
    "mqttc.loop_forever()"
   ]
  }
 ],
 "metadata": {
  "kernelspec": {
   "display_name": "Python 3 (ipykernel)",
   "language": "python",
   "name": "python3"
  },
  "language_info": {
   "codemirror_mode": {
    "name": "ipython",
    "version": 3
   },
   "file_extension": ".py",
   "mimetype": "text/x-python",
   "name": "python",
   "nbconvert_exporter": "python",
   "pygments_lexer": "ipython3",
   "version": "3.9.20"
  }
 },
 "nbformat": 4,
 "nbformat_minor": 5
}
